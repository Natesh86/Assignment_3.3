{
 "cells": [
  {
   "cell_type": "code",
   "execution_count": 51,
   "metadata": {},
   "outputs": [],
   "source": [
    "def longestword(listwords):  # defining the funtion to return longest word\n",
    "    \n",
    "    max_word= max(listwords, key=lambda list_w: (len(list_w),list_w)) \n",
    "    \n",
    "    return max_word"
   ]
  },
  {
   "cell_type": "code",
   "execution_count": 52,
   "metadata": {},
   "outputs": [],
   "source": [
    "list_a=[\"hyder\",\"delhi\",\"goa\",\"chennai\",\"kolkatta\",\"karnataka\",\"uttharanchal\",\"himachalpradesh\"] # creating lsit of words"
   ]
  },
  {
   "cell_type": "code",
   "execution_count": 53,
   "metadata": {},
   "outputs": [
    {
     "data": {
      "text/plain": [
       "['hyder',\n",
       " 'delhi',\n",
       " 'goa',\n",
       " 'chennai',\n",
       " 'kolkatta',\n",
       " 'karnataka',\n",
       " 'uttharanchal',\n",
       " 'himachalpradesh']"
      ]
     },
     "execution_count": 53,
     "metadata": {},
     "output_type": "execute_result"
    }
   ],
   "source": [
    "list_a "
   ]
  },
  {
   "cell_type": "code",
   "execution_count": 54,
   "metadata": {},
   "outputs": [
    {
     "data": {
      "text/plain": [
       "'himachalpradesh'"
      ]
     },
     "execution_count": 54,
     "metadata": {},
     "output_type": "execute_result"
    }
   ],
   "source": [
    "longestword(list_a) # passing a list"
   ]
  }
 ],
 "metadata": {
  "kernelspec": {
   "display_name": "Python 3",
   "language": "python",
   "name": "python3"
  },
  "language_info": {
   "codemirror_mode": {
    "name": "ipython",
    "version": 3
   },
   "file_extension": ".py",
   "mimetype": "text/x-python",
   "name": "python",
   "nbconvert_exporter": "python",
   "pygments_lexer": "ipython3",
   "version": "3.6.4"
  }
 },
 "nbformat": 4,
 "nbformat_minor": 2
}
